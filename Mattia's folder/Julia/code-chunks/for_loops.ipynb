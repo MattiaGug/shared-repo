{
 "cells": [
  {
   "cell_type": "code",
   "execution_count": 2,
   "metadata": {},
   "outputs": [
    {
     "name": "stdout",
     "output_type": "stream",
     "text": [
      "1\n",
      "4\n",
      "9\n",
      "16\n"
     ]
    }
   ],
   "source": [
    "for i in 1:4 \n",
    "    println(i^2)\n",
    "end"
   ]
  },
  {
   "cell_type": "code",
   "execution_count": 3,
   "metadata": {},
   "outputs": [
    {
     "ename": "LoadError",
     "evalue": "UndefVarError: i not defined",
     "output_type": "error",
     "traceback": [
      "UndefVarError: i not defined",
      "",
      "Stacktrace:",
      " [1] top-level scope",
      "   @ In[3]:2",
      " [2] eval",
      "   @ ./boot.jl:368 [inlined]",
      " [3] include_string(mapexpr::typeof(REPL.softscope), mod::Module, code::String, filename::String)",
      "   @ Base ./loading.jl:1428"
     ]
    }
   ],
   "source": [
    "#error\n",
    "println(i)"
   ]
  },
  {
   "cell_type": "code",
   "execution_count": 4,
   "metadata": {},
   "outputs": [
    {
     "name": "stdout",
     "output_type": "stream",
     "text": [
      "Another iteration cycle\n",
      "Another iteration cycle\n",
      "Another iteration cycle\n",
      "Another iteration cycle\n"
     ]
    }
   ],
   "source": [
    "for i in 1:4 \n",
    "    println(\"Another iteration cycle\")\n",
    "end"
   ]
  },
  {
   "cell_type": "code",
   "execution_count": 5,
   "metadata": {},
   "outputs": [
    {
     "name": "stdout",
     "output_type": "stream",
     "text": [
      "1\n",
      "2\n",
      "3\n",
      "4\n"
     ]
    }
   ],
   "source": [
    "for j = 1:4\n",
    "    println(j)\n",
    "end"
   ]
  },
  {
   "cell_type": "code",
   "execution_count": 6,
   "metadata": {},
   "outputs": [
    {
     "name": "stdout",
     "output_type": "stream",
     "text": [
      "Julia\n",
      "R\n",
      "Python\n",
      "C\n"
     ]
    }
   ],
   "source": [
    "for name in [\"Julia\", \"R\", \"Python\", \"C\"]\n",
    "    println(name)\n",
    "end"
   ]
  },
  {
   "cell_type": "code",
   "execution_count": 7,
   "metadata": {},
   "outputs": [
    {
     "data": {
      "text/plain": [
       "5-element Vector{Int64}:\n",
       " 22\n",
       " 13\n",
       "  7\n",
       "  6\n",
       " 15"
      ]
     },
     "execution_count": 7,
     "metadata": {},
     "output_type": "execute_result"
    }
   ],
   "source": [
    "arr = rand(5:25, 5)"
   ]
  },
  {
   "cell_type": "code",
   "execution_count": 8,
   "metadata": {},
   "outputs": [
    {
     "name": "stdout",
     "output_type": "stream",
     "text": [
      "1. Element is 22.\n",
      "2. Element is 13.\n",
      "3. Element is 7.\n",
      "4. Element is 6.\n",
      "5. Element is 15.\n"
     ]
    }
   ],
   "source": [
    "for i in 1:length(arr)\n",
    "    println(\"$i. Element is $(arr[i]).\")\n",
    "end"
   ]
  },
  {
   "cell_type": "code",
   "execution_count": 9,
   "metadata": {},
   "outputs": [
    {
     "name": "stdout",
     "output_type": "stream",
     "text": [
      "The 1. element is 22.\n",
      "The 2. element is 13.\n",
      "The 3. element is 7.\n",
      "The 4. element is 6.\n",
      "The 5. element is 15.\n"
     ]
    }
   ],
   "source": [
    "for (index, value) in enumerate(arr)\n",
    "    println(\"The $(index). element is $(value).\")\n",
    "end"
   ]
  },
  {
   "cell_type": "code",
   "execution_count": 10,
   "metadata": {},
   "outputs": [
    {
     "data": {
      "text/plain": [
       "3×2 Matrix{Int64}:\n",
       " 18  36\n",
       " 19  32\n",
       " 20  25"
      ]
     },
     "execution_count": 10,
     "metadata": {},
     "output_type": "execute_result"
    }
   ],
   "source": [
    "mat = rand(14 : 44, (3,2))"
   ]
  },
  {
   "cell_type": "code",
   "execution_count": 12,
   "metadata": {},
   "outputs": [
    {
     "name": "stdout",
     "output_type": "stream",
     "text": [
      "Row: 1, Column: 1, Value: 18\n",
      "Row: 1, Column: 2, Value: 36\n",
      "Row: 2, Column: 1, Value: 19\n",
      "Row: 2, Column: 2, Value: 32\n",
      "Row: 3, Column: 1, Value: 20\n",
      "Row: 3, Column: 2, Value: 25\n"
     ]
    }
   ],
   "source": [
    "for row in 1:size(mat, 1)\n",
    "    for col in 1:size(mat, 2)\n",
    "        println(\"Row: $row, Column: $col, Value: $(mat[row, col])\")\n",
    "    end\n",
    "end"
   ]
  },
  {
   "cell_type": "code",
   "execution_count": 16,
   "metadata": {},
   "outputs": [
    {
     "name": "stdout",
     "output_type": "stream",
     "text": [
      "Row: 1, Column: 1, Value: 18\n",
      "Row: 1, Column: 2, Value: 36\n",
      "Row: 2, Column: 1, Value: 19\n",
      "Row: 2, Column: 2, Value: 32\n",
      "Row: 3, Column: 1, Value: 20\n",
      "Row: 3, Column: 2, Value: 25\n"
     ]
    }
   ],
   "source": [
    "for row in 1:size(mat, 1), col in 1:size(mat, 2)\n",
    "    println(\"Row: $row, Column: $col, Value: $(mat[row, col])\")\n",
    "end"
   ]
  },
  {
   "cell_type": "code",
   "execution_count": 18,
   "metadata": {},
   "outputs": [
    {
     "name": "stdout",
     "output_type": "stream",
     "text": [
      "(1, 1)(1, 2)(1, 3)(1, 4)\n",
      "(2, 1)(2, 2)(2, 3)(2, 4)\n",
      "(3, 1)(3, 2)(3, 3)(3, 4)\n",
      "(4, 1)(4, 2)(4, 3)(4, 4)\n",
      "(5, 1)(5, 2)(5, 3)(5, 4)\n",
      "(6, 1)(6, 2)(6, 3)(6, 4)\n"
     ]
    }
   ],
   "source": [
    "for row in 1:6\n",
    "    for col in 1:4\n",
    "        print((row, col))\n",
    "    end\n",
    "    println()\n",
    "end"
   ]
  },
  {
   "cell_type": "code",
   "execution_count": 19,
   "metadata": {},
   "outputs": [
    {
     "name": "stdout",
     "output_type": "stream",
     "text": [
      "(1, 1)(1, 2)(1, 3)(1, 4)\n",
      "(2, 1)(2, 2)(2, 3)(2, 4)\n",
      "(3, 1)(3, 2)(3, 3)(3, 4)\n",
      "(4, 1)(4, 2)(4, 3)(4, 4)\n",
      "(5, 1)(5, 2)(5, 3)(5, 4)\n",
      "(6, 1)(6, 2)(6, 3)(6, 4)\n"
     ]
    }
   ],
   "source": [
    "for row in 1:6, col in 1:4\n",
    "    print((row, col))\n",
    "    if col == 4\n",
    "        println()\n",
    "    end\n",
    "end"
   ]
  },
  {
   "cell_type": "code",
   "execution_count": 20,
   "metadata": {},
   "outputs": [],
   "source": [
    "names = [\"Albert\", \"Marie\", \"Isaac\", \"Rosalind\", \"Richard\"]\n",
    "surnames = [\"Einstein\", \"Curie\", \"Newton\", \"Franklin\", \"Feynman\"]\n",
    "birthyears = [1879, 1867, 1643, 1918];"
   ]
  },
  {
   "cell_type": "markdown",
   "metadata": {},
   "source": [
    "Zip() function runs multiple iterators at the same time, until any of them is exhausted. The value type of the zip iterator is a tuple of values of its subiterators."
   ]
  },
  {
   "cell_type": "code",
   "execution_count": 21,
   "metadata": {},
   "outputs": [
    {
     "name": "stdout",
     "output_type": "stream",
     "text": [
      "(\"Albert\", \"Einstein\", 1879)\n",
      "(\"Marie\", \"Curie\", 1867)\n",
      "(\"Isaac\", \"Newton\", 1643)\n",
      "(\"Rosalind\", \"Franklin\", 1918)\n"
     ]
    }
   ],
   "source": [
    "for (name,surname,year) in zip(names, surnames, birthyears)\n",
    "    println((name, surname,year))\n",
    "end"
   ]
  },
  {
   "cell_type": "code",
   "execution_count": 22,
   "metadata": {},
   "outputs": [
    {
     "data": {
      "text/plain": [
       "Dict{String, Int64} with 4 entries:\n",
       "  \"c\" => 30\n",
       "  \"b\" => 20\n",
       "  \"a\" => 10\n",
       "  \"d\" => 40"
      ]
     },
     "execution_count": 22,
     "metadata": {},
     "output_type": "execute_result"
    }
   ],
   "source": [
    "d = Dict(\"a\" => 10, \"b\" => 20, \"c\" => 30, \"d\" => 40)"
   ]
  },
  {
   "cell_type": "code",
   "execution_count": 23,
   "metadata": {},
   "outputs": [
    {
     "name": "stdout",
     "output_type": "stream",
     "text": [
      "Key is: c, Value is: 30\n",
      "Key is: b, Value is: 20\n",
      "Key is: a, Value is: 10\n",
      "Key is: d, Value is: 40\n"
     ]
    }
   ],
   "source": [
    "for(key, val) in d\n",
    "    println(\"Key is: $key, Value is: $val\")\n",
    "end"
   ]
  },
  {
   "cell_type": "code",
   "execution_count": 24,
   "metadata": {},
   "outputs": [
    {
     "name": "stdout",
     "output_type": "stream",
     "text": [
      "Key is c, Value is: 30\n",
      "Key is b, Value is: 20\n",
      "Key is a, Value is: 10\n",
      "Key is d, Value is: 40\n"
     ]
    }
   ],
   "source": [
    "for item in d \n",
    "    println(\"Key is $(item.first), Value is: $(item.second)\")\n",
    "end\n"
   ]
  },
  {
   "cell_type": "code",
   "execution_count": 26,
   "metadata": {},
   "outputs": [
    {
     "name": "stdout",
     "output_type": "stream",
     "text": [
      "J|u|l|i|a| |l|a|n|g|u|a|g|e|"
     ]
    }
   ],
   "source": [
    "str = \"Julia language\"\n",
    "for c in str\n",
    "    print(\"$c|\")         #PRINT NOT println\n",
    "end"
   ]
  },
  {
   "cell_type": "code",
   "execution_count": 27,
   "metadata": {},
   "outputs": [
    {
     "name": "stdout",
     "output_type": "stream",
     "text": [
      "For loop is the most common type of loop. \n",
      "The other type of loop is while loop. \n",
      "Loops are very cool. \n",
      "\n"
     ]
    }
   ],
   "source": [
    "file = \"inputfile.txt\"\n",
    "\n",
    "for line in eachline(file)\n",
    "    println(line)\n",
    "end"
   ]
  },
  {
   "cell_type": "code",
   "execution_count": 32,
   "metadata": {},
   "outputs": [],
   "source": [
    "arr = rand(-1_000_000: 1_000_000, 100);"
   ]
  },
  {
   "cell_type": "code",
   "execution_count": 33,
   "metadata": {},
   "outputs": [
    {
     "name": "stdout",
     "output_type": "stream",
     "text": [
      "977500\n"
     ]
    }
   ],
   "source": [
    "maxnum = typemin(Int64)\n",
    "for num in arr \n",
    "    if num > maxnum\n",
    "        maxnum = num \n",
    "    end\n",
    "end \n",
    "println(maxnum)"
   ]
  },
  {
   "cell_type": "code",
   "execution_count": 34,
   "metadata": {},
   "outputs": [
    {
     "name": "stdout",
     "output_type": "stream",
     "text": [
      "101542.66\n"
     ]
    }
   ],
   "source": [
    "sum = 0 \n",
    "n = 0 \n",
    "for num = arr\n",
    "    sum += num\n",
    "    n += 1\n",
    "end\n",
    "average = sum / n \n",
    "println(average)"
   ]
  },
  {
   "cell_type": "code",
   "execution_count": null,
   "metadata": {},
   "outputs": [],
   "source": []
  }
 ],
 "metadata": {
  "kernelspec": {
   "display_name": "Julia 1.8.2",
   "language": "julia",
   "name": "julia-1.8"
  },
  "language_info": {
   "file_extension": ".jl",
   "mimetype": "application/julia",
   "name": "julia",
   "version": "1.8.2"
  },
  "orig_nbformat": 4
 },
 "nbformat": 4,
 "nbformat_minor": 2
}
