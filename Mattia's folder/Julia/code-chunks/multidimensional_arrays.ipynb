{
 "cells": [
  {
   "cell_type": "code",
   "execution_count": 1,
   "metadata": {},
   "outputs": [],
   "source": [
    "# Array{T}\n",
    "# Array{T, N}"
   ]
  },
  {
   "cell_type": "code",
   "execution_count": 1,
   "metadata": {},
   "outputs": [
    {
     "data": {
      "text/plain": [
       "5×4×3 Array{Float64, 3}:\n",
       "[:, :, 1] =\n",
       " 2.55599e-314  2.556e-314    2.55674e-314  2.55674e-314\n",
       " 2.55599e-314  2.556e-314    2.55599e-314  2.55674e-314\n",
       " 2.55674e-314  2.55674e-314  2.55599e-314  2.55599e-314\n",
       " 2.55599e-314  2.55674e-314  2.55674e-314  2.55599e-314\n",
       " 2.556e-314    2.55674e-314  2.55674e-314  2.55684e-314\n",
       "\n",
       "[:, :, 2] =\n",
       " 2.55599e-314  0.0  0.0  0.0\n",
       " 2.55601e-314  0.0  0.0  0.0\n",
       " 2.55599e-314  0.0  0.0  0.0\n",
       " 2.55601e-314  0.0  0.0  0.0\n",
       " 2.55599e-314  0.0  0.0  0.0\n",
       "\n",
       "[:, :, 3] =\n",
       " 0.0  0.0  0.0  0.0\n",
       " 0.0  0.0  0.0  0.0\n",
       " 0.0  0.0  0.0  0.0\n",
       " 0.0  0.0  0.0  2.55674e-314\n",
       " 0.0  0.0  0.0  2.55599e-314"
      ]
     },
     "execution_count": 1,
     "metadata": {},
     "output_type": "execute_result"
    }
   ],
   "source": [
    "Array{Float64, 3}(undef, (5, 4, 3))"
   ]
  },
  {
   "cell_type": "code",
   "execution_count": 2,
   "metadata": {},
   "outputs": [
    {
     "data": {
      "text/plain": [
       "2×3×2×3 Array{Union{Nothing, Int64}, 4}:\n",
       "[:, :, 1, 1] =\n",
       " nothing  nothing  nothing\n",
       " nothing  nothing  nothing\n",
       "\n",
       "[:, :, 2, 1] =\n",
       " nothing  nothing  nothing\n",
       " nothing  nothing  nothing\n",
       "\n",
       "[:, :, 1, 2] =\n",
       " nothing  nothing  nothing\n",
       " nothing  nothing  nothing\n",
       "\n",
       "[:, :, 2, 2] =\n",
       " nothing  nothing  nothing\n",
       " nothing  nothing  nothing\n",
       "\n",
       "[:, :, 1, 3] =\n",
       " nothing  nothing  nothing\n",
       " nothing  nothing  nothing\n",
       "\n",
       "[:, :, 2, 3] =\n",
       " nothing  nothing  nothing\n",
       " nothing  nothing  nothing"
      ]
     },
     "execution_count": 2,
     "metadata": {},
     "output_type": "execute_result"
    }
   ],
   "source": [
    "Array{Union{Int64,Nothing}, 4}(nothing, (2, 3, 2, 3))"
   ]
  },
  {
   "cell_type": "code",
   "execution_count": 3,
   "metadata": {},
   "outputs": [
    {
     "data": {
      "text/plain": [
       "4×3×2 Array{Union{Missing, String}, 3}:\n",
       "[:, :, 1] =\n",
       " missing  missing  missing\n",
       " missing  missing  missing\n",
       " missing  missing  missing\n",
       " missing  missing  missing\n",
       "\n",
       "[:, :, 2] =\n",
       " missing  missing  missing\n",
       " missing  missing  missing\n",
       " missing  missing  missing\n",
       " missing  missing  missing"
      ]
     },
     "execution_count": 3,
     "metadata": {},
     "output_type": "execute_result"
    }
   ],
   "source": [
    "Array{Union{String,Missing}}(missing, 4, 3, 2)"
   ]
  },
  {
   "cell_type": "code",
   "execution_count": 5,
   "metadata": {},
   "outputs": [
    {
     "data": {
      "text/plain": [
       "5×4×3 Array{Int64, 3}:\n",
       "[:, :, 1] =\n",
       " 1   6  11  16\n",
       " 2   7  12  17\n",
       " 3   8  13  18\n",
       " 4   9  14  19\n",
       " 5  10  15  20\n",
       "\n",
       "[:, :, 2] =\n",
       " 21  26  31  36\n",
       " 22  27  32  37\n",
       " 23  28  33  38\n",
       " 24  29  34  39\n",
       " 25  30  35  40\n",
       "\n",
       "[:, :, 3] =\n",
       " 41  46  51  56\n",
       " 42  47  52  57\n",
       " 43  48  53  58\n",
       " 44  49  54  59\n",
       " 45  50  55  60"
      ]
     },
     "execution_count": 5,
     "metadata": {},
     "output_type": "execute_result"
    }
   ],
   "source": [
    "v = Vector(1:60)\n",
    "arr1 = reshape(v, (5,4,3))"
   ]
  },
  {
   "cell_type": "code",
   "execution_count": 6,
   "metadata": {},
   "outputs": [
    {
     "data": {
      "text/plain": [
       "2×4 Matrix{Int64}:\n",
       " 1  2  3  4\n",
       " 5  6  7  8"
      ]
     },
     "execution_count": 6,
     "metadata": {},
     "output_type": "execute_result"
    }
   ],
   "source": [
    "[1 2 3 4; 5 6 7 8]"
   ]
  },
  {
   "cell_type": "code",
   "execution_count": 8,
   "metadata": {},
   "outputs": [
    {
     "data": {
      "text/plain": [
       "2×3 Matrix{Int64}:\n",
       " 1  6  8\n",
       " 5  7  9"
      ]
     },
     "execution_count": 8,
     "metadata": {},
     "output_type": "execute_result"
    }
   ],
   "source": [
    "[1;5;;6;7;;8;9]"
   ]
  },
  {
   "cell_type": "code",
   "execution_count": null,
   "metadata": {},
   "outputs": [],
   "source": []
  }
 ],
 "metadata": {
  "kernelspec": {
   "display_name": "Julia 1.8.2",
   "language": "julia",
   "name": "julia-1.8"
  },
  "language_info": {
   "file_extension": ".jl",
   "mimetype": "application/julia",
   "name": "julia",
   "version": "1.8.2"
  },
  "orig_nbformat": 4,
  "vscode": {
   "interpreter": {
    "hash": "dd674fed0207859997820e7444fc3b1eff64017e2712aa6b29fb59c5930c4321"
   }
  }
 },
 "nbformat": 4,
 "nbformat_minor": 2
}
