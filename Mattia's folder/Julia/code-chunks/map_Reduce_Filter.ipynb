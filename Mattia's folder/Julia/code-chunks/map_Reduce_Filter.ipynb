{
 "cells": [
  {
   "cell_type": "code",
   "execution_count": 1,
   "metadata": {},
   "outputs": [
    {
     "name": "stdout",
     "output_type": "stream",
     "text": [
      "[25, 36, 49, 64, 81, 100]\n"
     ]
    }
   ],
   "source": [
    "arr = [5, 6, 7, 8, 9, 10];\n",
    "sqarr = Int64[]; \n",
    "\n",
    "for el in arr\n",
    "    append!(sqarr, el^2)\n",
    "end\n",
    "println(sqarr)"
   ]
  },
  {
   "cell_type": "markdown",
   "metadata": {},
   "source": [
    "map(f, c...) -> collection\n",
    "Transform collection c by applying f to each element."
   ]
  },
  {
   "cell_type": "code",
   "execution_count": 2,
   "metadata": {},
   "outputs": [
    {
     "name": "stdout",
     "output_type": "stream",
     "text": [
      "[25, 36, 49, 64, 81, 100]"
     ]
    }
   ],
   "source": [
    "sqarr = map(x -> x^2, arr);\n",
    "print(sqarr)"
   ]
  },
  {
   "cell_type": "markdown",
   "metadata": {},
   "source": [
    "if there aretwo arguments broadcast is much stronger"
   ]
  },
  {
   "cell_type": "code",
   "execution_count": 3,
   "metadata": {},
   "outputs": [
    {
     "data": {
      "text/plain": [
       "6-element Vector{Int64}:\n",
       "  25\n",
       "  36\n",
       "  49\n",
       "  64\n",
       "  81\n",
       " 100"
      ]
     },
     "execution_count": 3,
     "metadata": {},
     "output_type": "execute_result"
    }
   ],
   "source": [
    "broadcast(x -> x^2, arr)"
   ]
  },
  {
   "cell_type": "code",
   "execution_count": 7,
   "metadata": {},
   "outputs": [],
   "source": [
    "rowvec = [1 2 3 4 5]\n",
    "colvec = [10, 20, 30, 40, 50];"
   ]
  },
  {
   "cell_type": "code",
   "execution_count": 8,
   "metadata": {},
   "outputs": [
    {
     "data": {
      "text/plain": [
       "5-element Vector{Int64}:\n",
       " 11\n",
       " 22\n",
       " 33\n",
       " 44\n",
       " 55"
      ]
     },
     "execution_count": 8,
     "metadata": {},
     "output_type": "execute_result"
    }
   ],
   "source": [
    "map(+, rowvec, colvec)"
   ]
  },
  {
   "cell_type": "code",
   "execution_count": 9,
   "metadata": {},
   "outputs": [
    {
     "data": {
      "text/plain": [
       "5×5 Matrix{Int64}:\n",
       " 11  12  13  14  15\n",
       " 21  22  23  24  25\n",
       " 31  32  33  34  35\n",
       " 41  42  43  44  45\n",
       " 51  52  53  54  55"
      ]
     },
     "execution_count": 9,
     "metadata": {},
     "output_type": "execute_result"
    }
   ],
   "source": [
    "rowvec .+ colvec"
   ]
  },
  {
   "cell_type": "code",
   "execution_count": 10,
   "metadata": {},
   "outputs": [
    {
     "data": {
      "text/plain": [
       "45"
      ]
     },
     "execution_count": 10,
     "metadata": {},
     "output_type": "execute_result"
    }
   ],
   "source": [
    "reduce(+, arr)"
   ]
  },
  {
   "cell_type": "code",
   "execution_count": 11,
   "metadata": {},
   "outputs": [
    {
     "data": {
      "text/plain": [
       "355"
      ]
     },
     "execution_count": 11,
     "metadata": {},
     "output_type": "execute_result"
    }
   ],
   "source": [
    "sqarr = map(x -> x^2, arr)\n",
    "sumsqr = reduce(+, sqarr)"
   ]
  },
  {
   "cell_type": "code",
   "execution_count": 12,
   "metadata": {},
   "outputs": [
    {
     "data": {
      "text/plain": [
       "355"
      ]
     },
     "execution_count": 12,
     "metadata": {},
     "output_type": "execute_result"
    }
   ],
   "source": [
    "mapreduce(x -> x^2, +, arr)"
   ]
  },
  {
   "cell_type": "code",
   "execution_count": 13,
   "metadata": {},
   "outputs": [
    {
     "data": {
      "text/plain": [
       "1-element Vector{Int64}:\n",
       " 8"
      ]
     },
     "execution_count": 13,
     "metadata": {},
     "output_type": "execute_result"
    }
   ],
   "source": [
    "filter(x -> x%4 == 0, arr)"
   ]
  },
  {
   "cell_type": "code",
   "execution_count": 14,
   "metadata": {},
   "outputs": [],
   "source": [
    "struct Course\n",
    "    subject::Symbol\n",
    "    field::Symbol\n",
    "    ncourses::Int\n",
    "    nstudents::Int #average num of students in a class\n",
    "end"
   ]
  },
  {
   "cell_type": "code",
   "execution_count": 15,
   "metadata": {},
   "outputs": [
    {
     "data": {
      "text/plain": [
       "4-element Vector{Course}:\n",
       " Course(:Julia, :Programming, 10, 250)\n",
       " Course(:Python, :Programming, 50, 750)\n",
       " Course(:Mathematics, :Science, 30, 100)\n",
       " Course(:Pysics, :Science, 45, 300)"
      ]
     },
     "execution_count": 15,
     "metadata": {},
     "output_type": "execute_result"
    }
   ],
   "source": [
    "coursedata = [Course(:Julia, :Programming, 10, 250), Course(:Python, :Programming, 50, 750), Course(:Mathematics, :Science, 30, 100), Course(:Pysics, :Science, 45, 300)]"
   ]
  },
  {
   "cell_type": "code",
   "execution_count": 16,
   "metadata": {},
   "outputs": [
    {
     "data": {
      "text/plain": [
       "2-element Vector{Course}:\n",
       " Course(:Julia, :Programming, 10, 250)\n",
       " Course(:Python, :Programming, 50, 750)"
      ]
     },
     "execution_count": 16,
     "metadata": {},
     "output_type": "execute_result"
    }
   ],
   "source": [
    "nprogramming = filter(x -> x.field ===:Programming, coursedata)"
   ]
  },
  {
   "cell_type": "code",
   "execution_count": 19,
   "metadata": {},
   "outputs": [
    {
     "data": {
      "text/plain": [
       "2-element Vector{Int64}:\n",
       "  2500\n",
       " 37500"
      ]
     },
     "execution_count": 19,
     "metadata": {},
     "output_type": "execute_result"
    }
   ],
   "source": [
    "nstudents = map(x -> x.ncourses * x.nstudents, nprogramming)"
   ]
  },
  {
   "cell_type": "code",
   "execution_count": 20,
   "metadata": {},
   "outputs": [
    {
     "data": {
      "text/plain": [
       "40000"
      ]
     },
     "execution_count": 20,
     "metadata": {},
     "output_type": "execute_result"
    }
   ],
   "source": [
    "totalstudents = reduce(+, nstudents)"
   ]
  },
  {
   "cell_type": "code",
   "execution_count": 21,
   "metadata": {},
   "outputs": [
    {
     "data": {
      "text/plain": [
       "nfield (generic function with 1 method)"
      ]
     },
     "execution_count": 21,
     "metadata": {},
     "output_type": "execute_result"
    }
   ],
   "source": [
    "function nfield(data, field)\n",
    "    f = filter(x -> x.field ===Symbol(field), data)\n",
    "    s = mapreduce(x -> x.ncourses * x.nstudents, +, f)\n",
    "    return s\n",
    "end"
   ]
  },
  {
   "cell_type": "code",
   "execution_count": 22,
   "metadata": {},
   "outputs": [
    {
     "data": {
      "text/plain": [
       "40000"
      ]
     },
     "execution_count": 22,
     "metadata": {},
     "output_type": "execute_result"
    }
   ],
   "source": [
    "nfield(coursedata, \"Programming\")"
   ]
  },
  {
   "cell_type": "code",
   "execution_count": 23,
   "metadata": {},
   "outputs": [
    {
     "data": {
      "text/plain": [
       "16500"
      ]
     },
     "execution_count": 23,
     "metadata": {},
     "output_type": "execute_result"
    }
   ],
   "source": [
    "nfield(coursedata, \"Science\")"
   ]
  },
  {
   "cell_type": "code",
   "execution_count": 24,
   "metadata": {},
   "outputs": [
    {
     "data": {
      "text/plain": [
       "f (generic function with 1 method)"
      ]
     },
     "execution_count": 24,
     "metadata": {},
     "output_type": "execute_result"
    }
   ],
   "source": [
    "function f(x)\n",
    "    if (x%2 == 0 ) && (x % 3 !=0 )\n",
    "        return \"Div2\"\n",
    "    elseif (x%3 == 0) &&(x % 2 !=0 )\n",
    "        return \"Div3\"\n",
    "    elseif (x%6 == 0)\n",
    "        return \"Div6\"\n",
    "    else\n",
    "        return \"DivNone\"\n",
    "    end\n",
    "end\n"
   ]
  },
  {
   "cell_type": "code",
   "execution_count": 25,
   "metadata": {},
   "outputs": [
    {
     "data": {
      "text/plain": [
       "6-element Vector{String}:\n",
       " \"DivNone\"\n",
       " \"Div6\"\n",
       " \"DivNone\"\n",
       " \"Div2\"\n",
       " \"Div3\"\n",
       " \"Div2\""
      ]
     },
     "execution_count": 25,
     "metadata": {},
     "output_type": "execute_result"
    }
   ],
   "source": [
    "map(f, arr)"
   ]
  },
  {
   "cell_type": "code",
   "execution_count": 26,
   "metadata": {},
   "outputs": [
    {
     "data": {
      "text/plain": [
       "6-element Vector{String}:\n",
       " \"DivNone\"\n",
       " \"Div6\"\n",
       " \"DivNone\"\n",
       " \"Div2\"\n",
       " \"Div3\"\n",
       " \"Div2\""
      ]
     },
     "execution_count": 26,
     "metadata": {},
     "output_type": "execute_result"
    }
   ],
   "source": [
    "map(x -> begin\n",
    "        if (x%2 == 0 ) && (x % 3 !=0 )\n",
    "                return \"Div2\"\n",
    "        elseif (x%3 == 0) &&(x % 2 !=0 )\n",
    "                return \"Div3\"\n",
    "        elseif (x%6 == 0)\n",
    "                return \"Div6\"\n",
    "        else\n",
    "                return \"DivNone\"\n",
    "        end\n",
    "end, \n",
    "arr)"
   ]
  },
  {
   "cell_type": "code",
   "execution_count": 27,
   "metadata": {},
   "outputs": [
    {
     "data": {
      "text/plain": [
       "6-element Vector{String}:\n",
       " \"DivNone\"\n",
       " \"Div6\"\n",
       " \"DivNone\"\n",
       " \"Div2\"\n",
       " \"Div3\"\n",
       " \"Div2\""
      ]
     },
     "execution_count": 27,
     "metadata": {},
     "output_type": "execute_result"
    }
   ],
   "source": [
    "map(arr) do x\n",
    "    if (x%2 == 0 ) && (x % 3 !=0 )\n",
    "        return \"Div2\"\n",
    "    elseif (x%3 == 0) &&(x % 2 !=0 )\n",
    "        return \"Div3\"\n",
    "    elseif (x%6 == 0)\n",
    "        return \"Div6\"\n",
    "    else\n",
    "        return \"DivNone\"\n",
    "    end\n",
    "end"
   ]
  },
  {
   "cell_type": "code",
   "execution_count": 28,
   "metadata": {},
   "outputs": [
    {
     "data": {
      "text/plain": [
       "71"
      ]
     },
     "execution_count": 28,
     "metadata": {},
     "output_type": "execute_result"
    }
   ],
   "source": [
    "data = \"Programming with Julia. \\nHigher order funcitons.\\nMap, reduce and filter\"\n",
    "\n",
    "open(\"input.txt\", \"w\") do x\n",
    "    write(x, data)\n",
    "end"
   ]
  },
  {
   "cell_type": "code",
   "execution_count": null,
   "metadata": {},
   "outputs": [],
   "source": []
  }
 ],
 "metadata": {
  "kernelspec": {
   "display_name": "Julia 1.8.2",
   "language": "julia",
   "name": "julia-1.8"
  },
  "language_info": {
   "file_extension": ".jl",
   "mimetype": "application/julia",
   "name": "julia",
   "version": "1.8.2"
  },
  "orig_nbformat": 4,
  "vscode": {
   "interpreter": {
    "hash": "dd674fed0207859997820e7444fc3b1eff64017e2712aa6b29fb59c5930c4321"
   }
  }
 },
 "nbformat": 4,
 "nbformat_minor": 2
}
