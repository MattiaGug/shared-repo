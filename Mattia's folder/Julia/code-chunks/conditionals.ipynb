{
 "cells": [
  {
   "cell_type": "code",
   "execution_count": 2,
   "metadata": {},
   "outputs": [
    {
     "name": "stdout",
     "output_type": "stream",
     "text": [
      "passed\n"
     ]
    }
   ],
   "source": [
    "score = 70 \n",
    "\n",
    "\n",
    "if score > 60\n",
    "    println(\"passed\")\n",
    "end"
   ]
  },
  {
   "cell_type": "code",
   "execution_count": 3,
   "metadata": {},
   "outputs": [
    {
     "data": {
      "text/plain": [
       "true"
      ]
     },
     "execution_count": 3,
     "metadata": {},
     "output_type": "execute_result"
    }
   ],
   "source": [
    "(score > 60)"
   ]
  },
  {
   "cell_type": "code",
   "execution_count": 4,
   "metadata": {},
   "outputs": [
    {
     "name": "stdout",
     "output_type": "stream",
     "text": [
      "Congratulations, you passed\n"
     ]
    }
   ],
   "source": [
    "if score > 60 \n",
    "    println(\"Congratulations, you passed\")\n",
    "else\n",
    "    println(\"I'm sorry you failed\")\n",
    "end"
   ]
  },
  {
   "cell_type": "code",
   "execution_count": 6,
   "metadata": {},
   "outputs": [
    {
     "name": "stdout",
     "output_type": "stream",
     "text": [
      "Your grade is B\n"
     ]
    }
   ],
   "source": [
    "if score >= 85\n",
    "    println(\"Your grade is A\")\n",
    "else\n",
    "    if score >= 70 \n",
    "        println(\"Your grade is B\")\n",
    "    else\n",
    "        if score >= 60\n",
    "            println(\"Your grade is C\")\n",
    "        else\n",
    "            println(\"Your score is F\")\n",
    "        end\n",
    "    end\n",
    "end"
   ]
  },
  {
   "cell_type": "code",
   "execution_count": 7,
   "metadata": {},
   "outputs": [
    {
     "name": "stdout",
     "output_type": "stream",
     "text": [
      "Your grade is B\n"
     ]
    }
   ],
   "source": [
    "if score >= 85\n",
    "    println(\"Your grade is A\")\n",
    "elseif score >= 70 \n",
    "        println(\"Your grade is B\")\n",
    "elseif score >= 60\n",
    "            println(\"Your grade is C\")\n",
    "else\n",
    "    println(\"Your score is F\")\n",
    "end"
   ]
  }
 ],
 "metadata": {
  "kernelspec": {
   "display_name": "Julia 1.8.2",
   "language": "julia",
   "name": "julia-1.8"
  },
  "language_info": {
   "file_extension": ".jl",
   "mimetype": "application/julia",
   "name": "julia",
   "version": "1.8.2"
  },
  "orig_nbformat": 4
 },
 "nbformat": 4,
 "nbformat_minor": 2
}
