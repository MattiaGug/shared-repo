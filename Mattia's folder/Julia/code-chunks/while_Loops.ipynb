{
 "cells": [
  {
   "cell_type": "code",
   "execution_count": 1,
   "metadata": {},
   "outputs": [
    {
     "name": "stdout",
     "output_type": "stream",
     "text": [
      "1\n",
      "4\n",
      "9\n",
      "16\n"
     ]
    }
   ],
   "source": [
    "j = 1; \n",
    "\n",
    "while j < 5\n",
    "    println(j^2)\n",
    "    global j+= 1\n",
    "end "
   ]
  },
  {
   "cell_type": "code",
   "execution_count": 2,
   "metadata": {},
   "outputs": [
    {
     "name": "stdout",
     "output_type": "stream",
     "text": [
      "15 11 9 7 5 4 3 "
     ]
    }
   ],
   "source": [
    "arr = [3, 4, 5, 7, 9, 11, 15]\n",
    "\n",
    "while !isempty(arr)\n",
    "    print(pop!(arr), \" \")\n",
    "end"
   ]
  },
  {
   "cell_type": "code",
   "execution_count": 5,
   "metadata": {},
   "outputs": [
    {
     "name": "stdout",
     "output_type": "stream",
     "text": [
      "For loop is the most common type of loop. \n",
      "The other type of loop is while loop. \n",
      "Loops are very cool. \n"
     ]
    }
   ],
   "source": [
    "file = open(\"inputfile.txt\")\n",
    "line = readline(file)\n",
    "\n",
    "while line != \"\"\n",
    "    println(line)\n",
    "    line = readline(file)\n",
    "end\n",
    "close(file)"
   ]
  },
  {
   "cell_type": "code",
   "execution_count": null,
   "metadata": {},
   "outputs": [],
   "source": []
  }
 ],
 "metadata": {
  "kernelspec": {
   "display_name": "Julia 1.8.2",
   "language": "julia",
   "name": "julia-1.8"
  },
  "language_info": {
   "file_extension": ".jl",
   "mimetype": "application/julia",
   "name": "julia",
   "version": "1.8.2"
  },
  "orig_nbformat": 4
 },
 "nbformat": 4,
 "nbformat_minor": 2
}
