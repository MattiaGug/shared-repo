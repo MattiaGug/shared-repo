{
 "cells": [
  {
   "cell_type": "code",
   "execution_count": 1,
   "metadata": {},
   "outputs": [],
   "source": [
    "arr = [12, 23, 45, 67, 80, 99, 150, 160 , 999, 45, 999, 34, 56];"
   ]
  },
  {
   "cell_type": "code",
   "execution_count": 6,
   "metadata": {},
   "outputs": [
    {
     "name": "stdout",
     "output_type": "stream",
     "text": [
      "12\n",
      "23\n",
      "45\n",
      "67\n",
      "80\n",
      "99\n",
      "150\n",
      "160\n",
      "Break condition is met!\n"
     ]
    }
   ],
   "source": [
    "for el in arr\n",
    "    if el == 999\n",
    "        println(\"Break condition is met!\")\n",
    "        break\n",
    "    end\n",
    "    println(el)\n",
    "end"
   ]
  },
  {
   "cell_type": "code",
   "execution_count": 3,
   "metadata": {},
   "outputs": [
    {
     "name": "stdout",
     "output_type": "stream",
     "text": [
      "12\n",
      "23\n",
      "45\n",
      "67\n",
      "80\n",
      "99\n",
      "150\n",
      "160\n",
      "Break condition is met!\n"
     ]
    }
   ],
   "source": [
    "i = 1\n",
    "\n",
    "while i <= length(arr)\n",
    "    if arr[i] == 999\n",
    "        println(\"Break condition is met!\")\n",
    "        break\n",
    "    end\n",
    "    println(arr[i])\n",
    "    global i += 1\n",
    "end"
   ]
  },
  {
   "cell_type": "code",
   "execution_count": 7,
   "metadata": {},
   "outputs": [
    {
     "name": "stdout",
     "output_type": "stream",
     "text": [
      "12\n",
      "23\n",
      "45\n",
      "67\n",
      "80\n",
      "99\n",
      "150\n",
      "160\n",
      "Continue condition is met!\n",
      "45\n",
      "Continue condition is met!\n",
      "34\n",
      "56\n"
     ]
    }
   ],
   "source": [
    "for el in arr \n",
    "    if el == 999\n",
    "        println(\"Continue condition is met!\")\n",
    "        continue\n",
    "    end\n",
    "    println(el)\n",
    "end\n"
   ]
  },
  {
   "cell_type": "code",
   "execution_count": 9,
   "metadata": {},
   "outputs": [
    {
     "name": "stdout",
     "output_type": "stream",
     "text": [
      "12\n",
      "23\n",
      "45\n",
      "67\n",
      "80\n",
      "99\n",
      "150\n",
      "160\n",
      "45\n",
      "34\n",
      "56\n"
     ]
    }
   ],
   "source": [
    "i = 0\n",
    "\n",
    "while i < length(arr)\n",
    "    global i += 1\n",
    "    if arr[i] == 999\n",
    "        continue\n",
    "    end\n",
    "    println(arr[i])\n",
    "\n",
    "end"
   ]
  },
  {
   "cell_type": "code",
   "execution_count": 10,
   "metadata": {},
   "outputs": [
    {
     "name": "stdout",
     "output_type": "stream",
     "text": [
      "12\n",
      "80\n",
      "150\n",
      "160\n",
      "34\n",
      "56\n"
     ]
    }
   ],
   "source": [
    "for el in arr \n",
    "    if el % 2 == 1 continue end\n",
    "    println(el)\n",
    "end"
   ]
  },
  {
   "cell_type": "code",
   "execution_count": 15,
   "metadata": {},
   "outputs": [
    {
     "name": "stdout",
     "output_type": "stream",
     "text": [
      "It took 42 to get (6,6).\n"
     ]
    }
   ],
   "source": [
    "numtries = 0\n",
    "\n",
    "while true \n",
    "    global numtries += 1\n",
    "    m, n = rand((1:6)), rand((1:6))\n",
    "    if (m,n) == (6, 6) break end\n",
    "end\n",
    "\n",
    "println(\"It took $numtries to get (6,6).\")"
   ]
  }
 ],
 "metadata": {
  "kernelspec": {
   "display_name": "Julia 1.8.2",
   "language": "julia",
   "name": "julia-1.8"
  },
  "language_info": {
   "file_extension": ".jl",
   "mimetype": "application/julia",
   "name": "julia",
   "version": "1.8.2"
  },
  "orig_nbformat": 4,
  "vscode": {
   "interpreter": {
    "hash": "dd674fed0207859997820e7444fc3b1eff64017e2712aa6b29fb59c5930c4321"
   }
  }
 },
 "nbformat": 4,
 "nbformat_minor": 2
}
